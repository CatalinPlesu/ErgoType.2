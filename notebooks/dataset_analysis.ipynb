{
 "cells": [
  {
   "cell_type": "code",
   "execution_count": 1,
   "id": "b35ff4fc",
   "metadata": {},
   "outputs": [
    {
     "name": "stdout",
     "output_type": "stream",
     "text": [
      "Project root added to path: /home/catalin/dev/python\n"
     ]
    }
   ],
   "source": [
    "# Add the src directory to Python path\n",
    "import sys\n",
    "import os\n",
    "\n",
    "# Add the project root to the path\n",
    "project_root = os.path.dirname(os.path.dirname(os.getcwd()))\n",
    "sys.path.insert(0, project_root)\n",
    "\n",
    "print(f\"Project root added to path: {project_root}\")"
   ]
  },
  {
   "cell_type": "code",
   "execution_count": 2,
   "id": "321a82d8",
   "metadata": {},
   "outputs": [],
   "source": [
    "# Import the frequency analyzer module\n",
    "\n",
    "\n",
    "# Import other utilities\n",
    "import json\n",
    "import pickle\n",
    "from collections import Counter\n",
    "\n",
    "import sys\n",
    "sys.path.append('..')\n",
    "from src.helpers.text.processors.frequency_analyzer import process_text_datasets"
   ]
  },
  {
   "cell_type": "code",
   "execution_count": 3,
   "id": "b117fe5e",
   "metadata": {},
   "outputs": [
    {
     "name": "stdout",
     "output_type": "stream",
     "text": [
      "Starting dataset processing...\n",
      "Found 5 datasets: ['simple_wikipedia', 'the_algorithms_code', 'gutenberg', 'cartigratis', 'newsgroup']\n",
      "Processed simple_wikipedia: 178255102 chars, 376613 unique words (keeping top 3000)\n",
      "  Top 10 words: ['the', 'of', 'in', 'and', 'a', 'is', 'to', 'was', 'it', 'he']\n",
      "Processed the_algorithms_code: 31377967 chars, 50357 unique words (keeping top 3000)\n",
      "  Top 10 words: ['the', 'i', 'a', 'if', 'int', 'r', 'return', 'of', 't', 'd']\n",
      "Processed gutenberg: 74900254 chars, 136689 unique words (keeping top 3000)\n",
      "  Top 10 words: ['the', 'and', 'of', 'to', 'a', 'in', 'i', 'that', 'he', 'it']\n",
      "Processed cartigratis: 43233853 chars, 181281 unique words (keeping top 3000)\n",
      "  Top 10 words: ['i', 'de', 'a', 'în', 'să', 'o', 'nu', 'pe', 'se', 'cu']\n",
      "Processed newsgroup: 72077419 chars, 113755 unique words (keeping top 3000)\n",
      "  Top 10 words: ['the', 'to', 'a', 'of', 'and', 'i', 'in', 'is', 'that', 'ax']\n",
      "\n",
      "Calculating remaining character pool for top 3000 words...\n",
      "\n",
      "Processing complete. Results saved to:\n",
      "  Single Pickle: ../src/data/text/processed/frequency_analysis.pkl\n",
      "  Individual JSON files saved for each dataset\n"
     ]
    }
   ],
   "source": [
    "# Process text datasets\n",
    "results = process_text_datasets()"
   ]
  }
 ],
 "metadata": {
  "kernelspec": {
   "display_name": "ergo-type",
   "language": "python",
   "name": "python3"
  },
  "language_info": {
   "codemirror_mode": {
    "name": "ipython",
    "version": 3
   },
   "file_extension": ".py",
   "mimetype": "text/x-python",
   "name": "python",
   "nbconvert_exporter": "python",
   "pygments_lexer": "ipython3",
   "version": "3.11.13"
  }
 },
 "nbformat": 4,
 "nbformat_minor": 5
}
