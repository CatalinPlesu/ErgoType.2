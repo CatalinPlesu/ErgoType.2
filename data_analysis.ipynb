{
 "cells": [
  {
   "cell_type": "code",
   "execution_count": 4,
   "id": "d0a200a9-8d1d-4667-93b8-75db0a20dfd7",
   "metadata": {},
   "outputs": [
    {
     "name": "stdout",
     "output_type": "stream",
     "text": [
      "Dataset downloaded to: /home/catalin/.cache/kagglehub/datasets/crawford/20-newsgroups/versions/1\n"
     ]
    }
   ],
   "source": [
    "import kagglehub\n",
    "import os\n",
    "from collections import Counter\n",
    "import string\n",
    "import re\n",
    "\n",
    "dataset_path = kagglehub.dataset_download(\"crawford/20-newsgroups\")\n",
    "print(\"Dataset downloaded to:\", dataset_path)"
   ]
  },
  {
   "cell_type": "code",
   "execution_count": 5,
   "id": "d315d3e0-e977-468b-b9d1-630246589369",
   "metadata": {},
   "outputs": [
    {
     "name": "stdout",
     "output_type": "stream",
     "text": [
      "['misc.forsale.txt', 'comp.windows.x.txt', 'rec.sport.baseball.txt', 'talk.religion.misc.txt', 'sci.space.txt', 'talk.politics.mideast.txt', 'rec.sport.hockey.txt', 'comp.sys.mac.hardware.txt', 'talk.politics.guns.txt', 'comp.graphics.txt', 'comp.sys.ibm.pc.hardware.txt', 'talk.politics.misc.txt', 'comp.os.ms-windows.misc.txt', 'rec.motorcycles.txt', 'sci.electronics.txt', 'sci.med.txt', 'list.csv', 'alt.atheism.txt', 'rec.autos.txt', 'sci.crypt.txt', 'soc.religion.christian.txt']\n"
     ]
    }
   ],
   "source": [
    "files = os.listdir(dataset_path)\n",
    "file_paths = [os.path.join(dataset_path, f) for f in os.listdir(dataset_path) if os.path.isfile(os.path.join(dataset_path, f))]\n",
    "print(files)\n"
   ]
  },
  {
   "cell_type": "code",
   "execution_count": 6,
   "id": "e9c90e63-11b9-4e26-8868-67c4ea8e5959",
   "metadata": {},
   "outputs": [],
   "source": [
    "def analyze_text_files_full_metrics_sorted(file_list):\n",
    "    \"\"\"\n",
    "    Opens each file, counts words and visible characters, and returns\n",
    "    individual character counts sorted by frequency.\n",
    "\n",
    "    Args:\n",
    "        file_list (list): A list of file paths.\n",
    "\n",
    "    Returns:\n",
    "        tuple: Total word count, total visible char count, and individual\n",
    "               character counts sorted by frequency (descending).\n",
    "    \"\"\"\n",
    "    all_character_counts = Counter()\n",
    "    total_visible_char_count = 0\n",
    "    total_word_count = 0\n",
    "    visible_characters = set(string.printable) - set(string.whitespace)\n",
    "    visible_characters.add(' ')\n",
    "\n",
    "    for file_path in file_list:\n",
    "        try:\n",
    "            with open(file_path, 'r', encoding='utf-8') as file:\n",
    "                content = file.read()\n",
    "                for char in content:\n",
    "                    if char in visible_characters:\n",
    "                        all_character_counts[char] += 1\n",
    "                        total_visible_char_count += 1\n",
    "                words = re.findall(r'\\b\\w+\\b', content.lower())\n",
    "                total_word_count += len(words)\n",
    "        except UnicodeDecodeError:\n",
    "            try:\n",
    "                with open(file_path, 'r', encoding='latin-1') as file:\n",
    "                    content = file.read()\n",
    "                    for char in content:\n",
    "                        if char in visible_characters:\n",
    "                            all_character_counts[char] += 1\n",
    "                            total_visible_char_count += 1\n",
    "                    words = re.findall(r'\\b\\w+\\b', content.lower())\n",
    "                    total_word_count += len(words)\n",
    "            except Exception as e:\n",
    "                raise Exception(f\"Error reading {file_path} with 'latin-1': {e}\")\n",
    "        except FileNotFoundError as e:\n",
    "            raise FileNotFoundError(f\"File not found: {file_path}\") from e\n",
    "        except Exception as e:\n",
    "            raise Exception(f\"Error reading {file_path}: {e}\")\n",
    "\n",
    "    # Sort the character counts by value (frequency) in descending order\n",
    "    sorted_char_counts = sorted(all_character_counts.items(), key=lambda item: item[1], reverse=True)\n",
    "    return total_word_count, total_visible_char_count, dict(sorted_char_counts)"
   ]
  },
  {
   "cell_type": "code",
   "execution_count": 7,
   "id": "5527db1c-9680-4294-a20a-b14a3ccc5dc1",
   "metadata": {},
   "outputs": [
    {
     "name": "stdout",
     "output_type": "stream",
     "text": [
      "Unexpected exception formatting exception. Falling back to standard exception\n"
     ]
    },
    {
     "name": "stderr",
     "output_type": "stream",
     "text": [
      "Traceback (most recent call last):\n",
      "  File \"/tmp/ipykernel_99689/734617743.py\", line 22, in analyze_text_files_full_metrics_sorted\n",
      "    content = file.read()\n",
      "              ^^^^^^^^^^^\n",
      "  File \"<frozen codecs>\", line 322, in decode\n",
      "UnicodeDecodeError: 'utf-8' codec can't decode byte 0xff in position 11597: invalid start byte\n",
      "\n",
      "During handling of the above exception, another exception occurred:\n",
      "\n",
      "Traceback (most recent call last):\n",
      "  File \"/home/catalin/dev/python/ErgoType/.venv/lib/python3.11/site-packages/IPython/core/interactiveshell.py\", line 3699, in run_code\n",
      "    exec(code_obj, self.user_global_ns, self.user_ns)\n",
      "  File \"/tmp/ipykernel_99689/2760208557.py\", line 2, in <module>\n",
      "    word_count, total_char_count, individual_char_counts = analyze_text_files_full_metrics_sorted(file_paths)\n",
      "                                                           ^^^^^^^^^^^^^^^^^^^^^^^^^^^^^^^^^^^^^^^^^^^^^^^^^^\n",
      "  File \"/tmp/ipykernel_99689/734617743.py\", line None, in analyze_text_files_full_metrics_sorted\n",
      "KeyboardInterrupt\n",
      "\n",
      "During handling of the above exception, another exception occurred:\n",
      "\n",
      "Traceback (most recent call last):\n",
      "  File \"/home/catalin/dev/python/ErgoType/.venv/lib/python3.11/site-packages/IPython/core/interactiveshell.py\", line 2194, in showtraceback\n",
      "    stb = self.InteractiveTB.structured_traceback(\n",
      "          ^^^^^^^^^^^^^^^^^^^^^^^^^^^^^^^^^^^^^^^^\n",
      "  File \"/home/catalin/dev/python/ErgoType/.venv/lib/python3.11/site-packages/IPython/core/ultratb.py\", line 1179, in structured_traceback\n",
      "    return FormattedTB.structured_traceback(\n",
      "           ^^^^^^^^^^^^^^^^^^^^^^^^^^^^^^^^^\n",
      "  File \"/home/catalin/dev/python/ErgoType/.venv/lib/python3.11/site-packages/IPython/core/ultratb.py\", line 1050, in structured_traceback\n",
      "    return VerboseTB.structured_traceback(\n",
      "           ^^^^^^^^^^^^^^^^^^^^^^^^^^^^^^^\n",
      "  File \"/home/catalin/dev/python/ErgoType/.venv/lib/python3.11/site-packages/IPython/core/ultratb.py\", line 858, in structured_traceback\n",
      "    formatted_exceptions: list[list[str]] = self.format_exception_as_a_whole(\n",
      "                                            ^^^^^^^^^^^^^^^^^^^^^^^^^^^^^^^^^\n",
      "  File \"/home/catalin/dev/python/ErgoType/.venv/lib/python3.11/site-packages/IPython/core/ultratb.py\", line 770, in format_exception_as_a_whole\n",
      "    frames.append(self.format_record(record))\n",
      "                  ^^^^^^^^^^^^^^^^^^^^^^^^^^\n",
      "  File \"/home/catalin/dev/python/ErgoType/.venv/lib/python3.11/site-packages/IPython/core/ultratb.py\", line 533, in format_record\n",
      "    assert isinstance(frame_info.lineno, int)\n",
      "           ^^^^^^^^^^^^^^^^^^^^^^^^^^^^^^^^^^\n",
      "AssertionError\n"
     ]
    }
   ],
   "source": [
    "try:\n",
    "    word_count, total_char_count, individual_char_counts = analyze_text_files_full_metrics_sorted(file_paths)\n",
    "    print(f\"Total Word Count: {word_count}\")\n",
    "    print(f\"Total Visible Character Count: {total_char_count}\")\n",
    "    print(\"\\nIndividual Character Counts:\")\n",
    "    for char, count in individual_char_counts.items():\n",
    "        print(f\"Character '{char}': {count}\")\n",
    "except (FileNotFoundError, UnicodeDecodeError, Exception) as error:\n",
    "    print(f\"An error occurred: {error}\")"
   ]
  },
  {
   "cell_type": "code",
   "execution_count": null,
   "id": "aee331ac-aac0-4ed6-a88a-cd79c95af574",
   "metadata": {},
   "outputs": [],
   "source": [
    "def get_key_presses_detailed(char_counts):\n",
    "    \"\"\"\n",
    "    Simulates key presses for each character and counts the occurrences of\n",
    "    each key press combination (lowercase, SHIFT+key, SPACE).\n",
    "\n",
    "    Args:\n",
    "        char_counts (dict): A dictionary where keys are characters and values are their counts.\n",
    "\n",
    "    Returns:\n",
    "        dict: A dictionary where keys are the key press representations\n",
    "              (e.g., 'a', 'SHIFT+A', 'SPACE') and values are their counts.\n",
    "    \"\"\"\n",
    "    key_press_counts = Counter()\n",
    "\n",
    "    for char, count in char_counts.items():\n",
    "        if 'a' <= char <= 'z':\n",
    "            key_press = char\n",
    "        elif 'A' <= char <= 'Z':\n",
    "            key_press = \"SHIFT\"\n",
    "        elif char == ' ':\n",
    "            key_press = \"SPACE\"\n",
    "        elif char in \"!@#$%^&*()_+{}|:\\\"<>?~`\":\n",
    "            key_press = \"SHIFT\"\n",
    "        elif char in \"[]\\\\;',./-=\":\n",
    "            key_press = char\n",
    "        elif char.isdigit():\n",
    "            key_press = char\n",
    "        else:\n",
    "            key_press = f\"OTHER+{char}\"  # Handle characters not on standard keyboard\n",
    "\n",
    "        key_press_counts[key_press] += count\n",
    "\n",
    "    return dict(key_press_counts)"
   ]
  },
  {
   "cell_type": "code",
   "execution_count": null,
   "id": "cac88fbb-3801-4715-9b38-f2fb51f048eb",
   "metadata": {},
   "outputs": [],
   "source": [
    "key_presses = get_key_presses_detailed(individual_char_counts)"
   ]
  },
  {
   "cell_type": "code",
   "execution_count": null,
   "id": "6d2277b0-0027-486e-a046-c4637724717d",
   "metadata": {},
   "outputs": [],
   "source": [
    "for key, count in key_presses.items():\n",
    "    print(f\"Key: {key:>5}, Percentage: {(count/total_char_count):.5f}, Percentage (no SPACE,SHIFT): {(count/(total_char_count-key_presses['SPACE']-key_presses['SHIFT'])):.5f}\")"
   ]
  },
  {
   "cell_type": "code",
   "execution_count": null,
   "id": "dab7d93e-f252-412b-9bee-cef9ee24c797",
   "metadata": {},
   "outputs": [],
   "source": [
    "print(key_presses)\n"
   ]
  },
  {
   "cell_type": "code",
   "execution_count": null,
   "id": "15fca57b-096a-47b8-81db-63ad8aee60e9",
   "metadata": {},
   "outputs": [],
   "source": [
    "import matplotlib.pyplot as plt\n",
    "\n",
    "# Remove 'SPACE' and 'SHIFT'\n",
    "filtered = {k: v for k, v in key_presses.items() if k not in ('SPACE', 'SHIFT')}\n",
    "\n",
    "# Convert to percentage\n",
    "total = sum(filtered.values())\n",
    "percentages = {k: (v / total) * 100 for k, v in filtered.items()}\n",
    "\n",
    "# Sort and select top 20\n",
    "sorted_items = sorted(percentages.items(), key=lambda x: x[1], reverse=True)[:10]\n",
    "keys, values = zip(*sorted_items)\n",
    "\n",
    "# Plot\n",
    "plt.figure(figsize=(12, 6))\n",
    "plt.bar(keys, values, color='steelblue')\n",
    "plt.title('Top 20 cele mai frecvente taste apăsate (%)')\n",
    "plt.xlabel('Tastă')\n",
    "plt.ylabel('Frecvență (%)')\n",
    "plt.xticks(rotation=45)\n",
    "plt.tight_layout()\n",
    "plt.show()"
   ]
  },
  {
   "cell_type": "code",
   "execution_count": null,
   "id": "9ebcb629",
   "metadata": {},
   "outputs": [],
   "source": [
    "sorted_items"
   ]
  },
  {
   "cell_type": "code",
   "execution_count": null,
   "id": "8afbeac6",
   "metadata": {},
   "outputs": [],
   "source": []
  }
 ],
 "metadata": {
  "kernelspec": {
   "display_name": "ergo-type",
   "language": "python",
   "name": "python3"
  },
  "language_info": {
   "codemirror_mode": {
    "name": "ipython",
    "version": 3
   },
   "file_extension": ".py",
   "mimetype": "text/x-python",
   "name": "python",
   "nbconvert_exporter": "python",
   "pygments_lexer": "ipython3",
   "version": "3.11.13"
  }
 },
 "nbformat": 4,
 "nbformat_minor": 5
}
